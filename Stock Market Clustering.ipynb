{
 "cells": [
  {
   "cell_type": "code",
   "execution_count": 1,
   "metadata": {},
   "outputs": [],
   "source": [
    "import sys\n",
    "import numpy as np\n",
    "import pandas as pd\n",
    "from pandas_datareader import data\n",
    "from matplotlib import pyplot as plt\n",
    "import datetime"
   ]
  },
  {
   "cell_type": "code",
   "execution_count": 2,
   "metadata": {},
   "outputs": [],
   "source": [
    "# companies to be investigated\n",
    "companies_dict = {\n",
    "    'Amazon': 'AMZN',\n",
    "    'Apple': 'AAPL',\n",
    "    'Walgreen': 'WBA',\n",
    "    'Northrop Grumman': 'NOC',\n",
    "    'Boeing': 'BA',\n",
    "    'Lockheed Martin': 'LMT',\n",
    "    'McDonalds': 'MCD',\n",
    "    'Intel': 'INTC',\n",
    "    'Navister': 'NAV',\n",
    "    'IBM': 'IBM',\n",
    "    'Texes Instruments': 'TXN',\n",
    "    'Master Card': 'MA',\n",
    "    'Microsoft': 'MSFT',\n",
    "    'General Electric': 'GE',\n",
    "    'American Express': 'AXP',\n",
    "    'Pepsi': 'PEP',\n",
    "    'Coca Cola': 'CO',\n",
    "    'Johnson & Johnson': 'JNJ',\n",
    "    'Toyota': 'TM',\n",
    "    'Honda': 'HMC',\n",
    "    'Mitsubishin': 'MSBHY',\n",
    "    'Sony': 'SNE',\n",
    "    'Exxon': 'XOM',\n",
    "    'Chevron': 'CVX',\n",
    "    'Valero Energy': 'VLO',\n",
    "    'Ford': 'F',\n",
    "    'Bank of America': 'BAC',\n",
    "    'Deutsche Bank': 'DB',\n",
    "    'Alibaba': 'BABA',\n",
    "    'Pfizer': 'PFE',\n",
    "    'Nestle': 'NSRGY',\n",
    "    'Uniliver': 'UN',\n",
    "    'P&G': 'PG'\n",
    "    }\n",
    "#companies = sorted(companies_dict.items(), key=lambda x: x[1])\n",
    "companies = list(companies_dict.items())"
   ]
  },
  {
   "cell_type": "code",
   "execution_count": 3,
   "metadata": {},
   "outputs": [
    {
     "name": "stdout",
     "output_type": "stream",
     "text": [
      "[DatetimeIndex(['2015-01-02', '2015-01-05', '2015-01-06', '2015-01-07',\n",
      "               '2015-01-08', '2015-01-09', '2015-01-12', '2015-01-13',\n",
      "               '2015-01-14', '2015-01-15',\n",
      "               ...\n",
      "               '2020-05-18', '2020-05-19', '2020-05-20', '2020-05-21',\n",
      "               '2020-05-22', '2020-05-26', '2020-05-27', '2020-05-28',\n",
      "               '2020-05-29', '2020-06-01'],\n",
      "              dtype='datetime64[ns]', name='Date', length=1362, freq=None), MultiIndex([('Adj Close',  'AMZN'),\n",
      "            ('Adj Close',  'AAPL'),\n",
      "            ('Adj Close',   'WBA'),\n",
      "            ('Adj Close',   'NOC'),\n",
      "            ('Adj Close',    'BA'),\n",
      "            ('Adj Close',   'LMT'),\n",
      "            ('Adj Close',   'MCD'),\n",
      "            ('Adj Close',  'INTC'),\n",
      "            ('Adj Close',   'NAV'),\n",
      "            ('Adj Close',   'IBM'),\n",
      "            ...\n",
      "            (   'Volume',   'CVX'),\n",
      "            (   'Volume',   'VLO'),\n",
      "            (   'Volume',     'F'),\n",
      "            (   'Volume',   'BAC'),\n",
      "            (   'Volume',    'DB'),\n",
      "            (   'Volume',  'BABA'),\n",
      "            (   'Volume',   'PFE'),\n",
      "            (   'Volume', 'NSRGY'),\n",
      "            (   'Volume',    'UN'),\n",
      "            (   'Volume',    'PG')],\n",
      "           names=['Attributes', 'Symbols'], length=198)]\n"
     ]
    }
   ],
   "source": [
    "# online data source\n",
    "source = 'yahoo'\n",
    "\n",
    "# start date and end date\n",
    "startDate = '2015-01-01'\n",
    "endDate = '2020-06-01'\n",
    "\n",
    "# import the date using pandas_datareader\n",
    "rawData = data.DataReader(list(companies_dict.values()), source, startDate, endDate)\n",
    "\n",
    "# print axes labels\n",
    "print(rawData.axes)"
   ]
  },
  {
   "cell_type": "code",
   "execution_count": 4,
   "metadata": {},
   "outputs": [
    {
     "name": "stdout",
     "output_type": "stream",
     "text": [
      "Symbols\n",
      "AMZN     312.579987\n",
      "AAPL     111.389999\n",
      "WBA       76.110001\n",
      "NOC      148.289993\n",
      "BA       131.070007\n",
      "LMT      192.100006\n",
      "MCD       94.129997\n",
      "INTC      36.669998\n",
      "NAV       33.820000\n",
      "IBM      161.309998\n",
      "TXN       53.560001\n",
      "MA        86.680000\n",
      "MSFT      46.660000\n",
      "GE        24.365385\n",
      "AXP       93.169998\n",
      "PEP       94.930000\n",
      "CO         4.590000\n",
      "JNJ      105.050003\n",
      "TM       126.230003\n",
      "HMC       29.670000\n",
      "MSBHY     36.709999\n",
      "SNE       20.469999\n",
      "XOM       92.250000\n",
      "CVX      111.629997\n",
      "VLO       49.549999\n",
      "F         15.590000\n",
      "BAC       17.990000\n",
      "DB        30.590000\n",
      "BABA     104.239998\n",
      "PFE       31.270000\n",
      "NSRGY     72.910004\n",
      "UN        38.919998\n",
      "PG        90.839996\n",
      "Name: 2015-01-02 00:00:00, dtype: float64\n"
     ]
    }
   ],
   "source": [
    "# get the opening and closing stocks\n",
    "stockOpen = rawData['Open']\n",
    "stockClose = rawData['Close']\n",
    "\n",
    "# print opening stocks for day1\n",
    "print(stockOpen.iloc[0])"
   ]
  },
  {
   "cell_type": "code",
   "execution_count": 5,
   "metadata": {},
   "outputs": [
    {
     "name": "stdout",
     "output_type": "stream",
     "text": [
      "33\n",
      "1362\n"
     ]
    }
   ],
   "source": [
    "stock_closed = np.array(stockClose).T\n",
    "stock_open = np.array(stockOpen).T\n",
    "\n",
    "row, col = stock_closed.shape\n",
    "print(row)\n",
    "print(col)"
   ]
  },
  {
   "cell_type": "code",
   "execution_count": 6,
   "metadata": {},
   "outputs": [],
   "source": [
    "# calculate daily stock difference for each company\n",
    "diff = np.zeros([row, col])\n",
    "\n",
    "diff = np.subtract(stock_closed, stock_open)\n",
    "    "
   ]
  },
  {
   "cell_type": "code",
   "execution_count": 7,
   "metadata": {},
   "outputs": [
    {
     "name": "stdout",
     "output_type": "stream",
     "text": [
      "Company: Amazon Change: -42.1201171875\n",
      "Company: Apple Change: 201.76995849609375\n",
      "Company: Walgreen Change: -27.030029296875\n",
      "Company: Northrop Grumman Change: 78.30001831054688\n",
      "Company: Boeing Change: -56.98047637939453\n",
      "Company: Lockheed Martin Change: 33.100311279296875\n",
      "Company: McDonalds Change: 44.920143127441406\n",
      "Company: Intel Change: 42.6199893951416\n",
      "Company: Navister Change: -40.899978160858154\n",
      "Company: IBM Change: -1.719818115234375\n",
      "Company: Texes Instruments Change: 53.5599250793457\n",
      "Company: Master Card Change: 65.08002471923828\n",
      "Company: Microsoft Change: 31.469924926757812\n",
      "Company: General Electric Change: -7.518034934997559\n",
      "Company: American Express Change: -10.96978759765625\n",
      "Company: Pepsi Change: 45.140106201171875\n",
      "Company: Coca Cola Change: -5.2399914264678955\n",
      "Company: Johnson & Johnson Change: 36.959808349609375\n",
      "Company: Toyota Change: -49.670082092285156\n",
      "Company: Honda Change: -20.370019912719727\n",
      "Company: Mitsubishin Change: 40.88689613342285\n",
      "Company: Sony Change: -15.140039443969727\n",
      "Company: Exxon Change: -33.27003860473633\n",
      "Company: Chevron Change: -27.499923706054688\n",
      "Company: Valero Energy Change: -26.209976196289062\n",
      "Company: Ford Change: -14.900014400482178\n",
      "Company: Bank of America Change: -2.4800195693969727\n",
      "Company: Deutsche Bank Change: -8.760025978088379\n",
      "Company: Alibaba Change: -137.51193237304688\n",
      "Company: Pfizer Change: 6.050046920776367\n",
      "Company: Nestle Change: -24.92986297607422\n",
      "Company: Uniliver Change: 8.359970092773438\n",
      "Company: P&G Change: 53.26007843017578\n"
     ]
    }
   ],
   "source": [
    "for i in range(0, len(companies)):\n",
    "    print('Company: {} Change: {}'. format(companies[i][0], sum(diff[i][:])))"
   ]
  },
  {
   "cell_type": "code",
   "execution_count": 8,
   "metadata": {},
   "outputs": [
    {
     "data": {
      "image/png": "[encoded data removed]",
      "text/plain": [
       "<Figure size 864x720 with 2 Axes>"
      ]
     },
     "metadata": {
      "needs_background": "light"
     },
     "output_type": "display_data"
    }
   ],
   "source": [
    "# visualization of the data\n",
    "plt.figure(figsize=(12, 10))\n",
    "ax1 = plt.subplot(221)\n",
    "plt.plot(diff[0][:])\n",
    "plt.title(companies[0])\n",
    "\n",
    "plt.subplot(222, sharey=ax1)\n",
    "plt.plot(diff[1][:])\n",
    "plt.title(companies[1])\n",
    "plt.show()"
   ]
  },
  {
   "cell_type": "code",
   "execution_count": 9,
   "metadata": {},
   "outputs": [
    {
     "name": "stdout",
     "output_type": "stream",
     "text": [
      "0.25568254552670877\n",
      "-0.3870569065918154\n",
      "-9.630828364734155e-05\n"
     ]
    }
   ],
   "source": [
    "# normalize the data\n",
    "from sklearn.preprocessing import Normalizer\n",
    "norml = Normalizer()\n",
    "normDiff = norml.fit_transform(diff)\n",
    "\n",
    "print(normDiff.max())\n",
    "print(normDiff.min())\n",
    "print(normDiff.mean())"
   ]
  },
  {
   "cell_type": "code",
   "execution_count": 10,
   "metadata": {},
   "outputs": [
    {
     "data": {
      "image/png": "[encoded data removed]",
      "text/plain": [
       "<Figure size 864x720 with 2 Axes>"
      ]
     },
     "metadata": {
      "needs_background": "light"
     },
     "output_type": "display_data"
    }
   ],
   "source": [
    "# visualization of the data\n",
    "plt.figure(figsize=(12, 10))\n",
    "ax1 = plt.subplot(221)\n",
    "plt.plot(normDiff[0][:])\n",
    "plt.title(companies[0])\n",
    "\n",
    "plt.subplot(222, sharey=ax1)\n",
    "plt.plot(normDiff[10][:])\n",
    "plt.title(companies[10])\n",
    "plt.show()"
   ]
  },
  {
   "cell_type": "code",
   "execution_count": 11,
   "metadata": {},
   "outputs": [],
   "source": [
    "from sklearn.pipeline import make_pipeline\n",
    "from sklearn.cluster import KMeans\n",
    "\n",
    "'''\n",
    "The steps in the pipeline\n",
    "1. Normalize the data\n",
    "2. Kmeans clustering\n",
    "'''\n",
    "\n",
    "# define a normalizer\n",
    "norm = Normalizer()\n",
    "\n",
    "# define a kmeans model\n",
    "kmeans = KMeans(n_clusters=10, max_iter=1000, n_init=20)\n",
    "\n",
    "# define the pipeline\n",
    "pipeline = make_pipeline(norm, kmeans)"
   ]
  },
  {
   "cell_type": "code",
   "execution_count": 12,
   "metadata": {},
   "outputs": [
    {
     "name": "stdout",
     "output_type": "stream",
     "text": [
      "11.646938720678978\n"
     ]
    }
   ],
   "source": [
    "# fit the pipeline to daily stock movements\n",
    "pipeline.fit(diff)\n",
    "print(kmeans.inertia_)"
   ]
  },
  {
   "cell_type": "code",
   "execution_count": 13,
   "metadata": {},
   "outputs": [
    {
     "name": "stdout",
     "output_type": "stream",
     "text": [
      "    labels                 Companies\n",
      "14       0   (American Express, AXP)\n",
      "11       0         (Master Card, MA)\n",
      "6        0          (McDonalds, MCD)\n",
      "26       0    (Bank of America, BAC)\n",
      "25       1                 (Ford, F)\n",
      "19       1              (Honda, HMC)\n",
      "18       1              (Toyota, TM)\n",
      "13       1    (General Electric, GE)\n",
      "9        1                (IBM, IBM)\n",
      "21       1               (Sony, SNE)\n",
      "27       1       (Deutsche Bank, DB)\n",
      "4        1              (Boeing, BA)\n",
      "2        1           (Walgreen, WBA)\n",
      "15       2              (Pepsi, PEP)\n",
      "17       2  (Johnson & Johnson, JNJ)\n",
      "29       2             (Pfizer, PFE)\n",
      "32       2                 (P&G, PG)\n",
      "8        3           (Navister, NAV)\n",
      "22       4              (Exxon, XOM)\n",
      "24       4      (Valero Energy, VLO)\n",
      "23       4            (Chevron, CVX)\n",
      "28       5           (Alibaba, BABA)\n",
      "0        5            (Amazon, AMZN)\n",
      "12       5         (Microsoft, MSFT)\n",
      "10       5  (Texes Instruments, TXN)\n",
      "7        5             (Intel, INTC)\n",
      "1        5             (Apple, AAPL)\n",
      "5        6    (Lockheed Martin, LMT)\n",
      "3        6   (Northrop Grumman, NOC)\n",
      "20       7      (Mitsubishin, MSBHY)\n",
      "31       8            (Uniliver, UN)\n",
      "30       8           (Nestle, NSRGY)\n",
      "16       9           (Coca Cola, CO)\n"
     ]
    }
   ],
   "source": [
    "# predict the cluster labels\n",
    "labels = pipeline.predict(diff)\n",
    "\n",
    "# align the labels with companies\n",
    "df = pd.DataFrame({'labels': labels, 'Companies': companies})\n",
    "\n",
    "# print the clusters and companies\n",
    "print(df.sort_values('labels'))"
   ]
  },
  {
   "cell_type": "code",
   "execution_count": 14,
   "metadata": {},
   "outputs": [
    {
     "name": "stdout",
     "output_type": "stream",
     "text": [
      "    Clusters                 COmpanies\n",
      "0          0            (Amazon, AMZN)\n",
      "1          0             (Apple, AAPL)\n",
      "7          0             (Intel, INTC)\n",
      "12         0         (Microsoft, MSFT)\n",
      "10         0  (Texes Instruments, TXN)\n",
      "11         0         (Master Card, MA)\n",
      "2          1           (Walgreen, WBA)\n",
      "20         1      (Mitsubishin, MSBHY)\n",
      "6          1          (McDonalds, MCD)\n",
      "9          1                (IBM, IBM)\n",
      "17         2  (Johnson & Johnson, JNJ)\n",
      "15         2              (Pepsi, PEP)\n",
      "32         2                 (P&G, PG)\n",
      "13         3    (General Electric, GE)\n",
      "27         3       (Deutsche Bank, DB)\n",
      "25         3                 (Ford, F)\n",
      "23         3            (Chevron, CVX)\n",
      "22         3              (Exxon, XOM)\n",
      "18         4              (Toyota, TM)\n",
      "19         4              (Honda, HMC)\n",
      "16         4           (Coca Cola, CO)\n",
      "31         5            (Uniliver, UN)\n",
      "29         5             (Pfizer, PFE)\n",
      "30         5           (Nestle, NSRGY)\n",
      "28         6           (Alibaba, BABA)\n",
      "3          7   (Northrop Grumman, NOC)\n",
      "5          7    (Lockheed Martin, LMT)\n",
      "21         8               (Sony, SNE)\n",
      "14         8   (American Express, AXP)\n",
      "4          8              (Boeing, BA)\n",
      "8          9           (Navister, NAV)\n",
      "24         9      (Valero Energy, VLO)\n",
      "26         9    (Bank of America, BAC)\n"
     ]
    }
   ],
   "source": [
    "from sklearn.decomposition import PCA\n",
    "\n",
    "# reduce the data to 2 dimensions\n",
    "pcaData = PCA(n_components=2).fit_transform(normDiff)\n",
    "\n",
    "\n",
    "# run KMeans clustring of PCA reduced data\n",
    "kmeans = KMeans(n_clusters=10, max_iter=1000, n_init=20)\n",
    "kmeans.fit(pcaData)\n",
    "clusters = kmeans.predict(pcaData)\n",
    "\n",
    "# make the panadas dataFrame with new reduced data\n",
    "df = pd.DataFrame({'Clusters': clusters, 'COmpanies': companies})\n",
    "\n",
    "# print the companies with assigned clusters\n",
    "print(df.sort_values('Clusters'))"
   ]
  },
  {
   "cell_type": "code",
   "execution_count": 15,
   "metadata": {},
   "outputs": [
    {
     "data": {
      "text/plain": [
       "<Figure size 432x288 with 0 Axes>"
      ]
     },
     "metadata": {},
     "output_type": "display_data"
    },
    {
     "data": {
      "image/png": "[encoded data removed]",
      "text/plain": [
       "<Figure size 720x720 with 1 Axes>"
      ]
     },
     "metadata": {},
     "output_type": "display_data"
    }
   ],
   "source": [
    "#visualize high dimensional clusters\n",
    "\n",
    "#set size for the mesh\n",
    "h = 0.005\n",
    "\n",
    "#generate mesh grid\n",
    "xmin, xmax = pcaData[:, 0].min() - 1, pcaData[:, 0].max() + 1\n",
    "ymin, ymax = pcaData[:, 1].min() - 1, pcaData[:, 1].max() + 1\n",
    "xx, yy = np.meshgrid(np.arange(xmin, xmax, h), np.arange(ymin, ymax, h))\n",
    "\n",
    "#label each point in mesh using last trained model\n",
    "Z = kmeans.predict(np.c_[xx.ravel(), yy.ravel()])\n",
    "Z = Z.reshape(xx.shape)\n",
    "#generate color plots from the results\n",
    "plt.clf()\n",
    "cmap = plt.cm.Paired\n",
    "plt.figure(figsize=(10, 10))\n",
    "plt.imshow(Z, interpolation='nearest', extent=(xx.min(), xx.max(), yy.min(), yy.max()),\n",
    "            cmap = cmap, aspect = 'auto', origin = 'lower')\n",
    "\n",
    "#plot the principle components on the color map\n",
    "plt.plot(pcaData[:, 0], pcaData[:, 1], 'k.', markersize = 5)\n",
    "\n",
    "#plot the cluster centroids\n",
    "centroids = kmeans.cluster_centers_\n",
    "plt.scatter(centroids[:, 0], centroids[:, 1], marker = 'x', s = 250,\n",
    "           linewidth = 4, color = 'w', zorder = 10)\n",
    "\n",
    "#set plot title and limits\n",
    "plt.title('K-Means Clustering with PCA on Stock Merket Data')\n",
    "plt.xlim(xmin, xmax)\n",
    "plt.ylim(ymin, ymax)\n",
    "plt.xlabel('PCA1')\n",
    "plt.ylabel('PCA2')\n",
    "plt.xticks(())\n",
    "plt.yticks(())\n",
    "\n",
    "#show the plot\n",
    "plt.show()"
   ]
  },
  {
   "cell_type": "code",
   "execution_count": null,
   "metadata": {},
   "outputs": [],
   "source": []
  }
 ],
 "metadata": {
  "kernelspec": {
   "display_name": "Python 3",
   "language": "python",
   "name": "python3"
  },
  "language_info": {
   "codemirror_mode": {
    "name": "ipython",
    "version": 3
   },
   "file_extension": ".py",
   "mimetype": "text/x-python",
   "name": "python",
   "nbconvert_exporter": "python",
   "pygments_lexer": "ipython3",
   "version": "3.7.6"
  }
 },
 "nbformat": 4,
 "nbformat_minor": 4
}
